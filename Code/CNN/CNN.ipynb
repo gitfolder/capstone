{
 "cells": [
  {
   "cell_type": "code",
   "execution_count": 1,
   "id": "a6b63b2b",
   "metadata": {},
   "outputs": [],
   "source": [
    "import tensorflow as tf\n",
    "from tensorflow import keras\n",
    "from tensorflow.keras import layers\n",
    "from tensorflow.keras.models import Sequential\n",
    "from keras.preprocessing.image import load_img\n",
    "from keras import callbacks\n",
    "from keras.callbacks import History\n",
    "from tensorflow.data import Dataset\n",
    "\n",
    "import os\n",
    "import matplotlib.pyplot as plt\n",
    "import numpy as np\n",
    "\n",
    "import time\n",
    "from datetime import timedelta\n",
    "from tqdm import tqdm"
   ]
  },
  {
   "cell_type": "code",
   "execution_count": null,
   "id": "0006059f",
   "metadata": {},
   "outputs": [],
   "source": []
  },
  {
   "cell_type": "code",
   "execution_count": 2,
   "id": "496860ea",
   "metadata": {},
   "outputs": [],
   "source": [
    "DATA_PATH = \"../../Data/\"\n",
    "\n",
    "IMAGES_PATH_SEPARATED = DATA_PATH+\"HAM10000_images_separated_shrinked/\"\n",
    "\n",
    "IMAGES_PATH_SEPARATED = DATA_PATH+\"HAM10000_images_separated/\"\n",
    "#IMAGES_PATH_VALIDATION = DATA_PATH+\"HAM10000_images_separated_validation/\""
   ]
  },
  {
   "cell_type": "code",
   "execution_count": 3,
   "id": "69472d41",
   "metadata": {},
   "outputs": [],
   "source": [
    "SAVING_ON = True"
   ]
  },
  {
   "cell_type": "code",
   "execution_count": null,
   "id": "16ad6f88",
   "metadata": {},
   "outputs": [],
   "source": []
  },
  {
   "cell_type": "code",
   "execution_count": 52,
   "id": "f85b20b6",
   "metadata": {},
   "outputs": [],
   "source": [
    "def compile_model(input_shape: tuple, num_classes: int): #-> Sequential:\n",
    "    \n",
    "    dropout_rate = 0.3\n",
    "    \n",
    "    '''\n",
    "    convolutions = [\n",
    "        layers.Conv2D(16, 3, padding=\"same\", activation=\"relu\"),\n",
    "        layers.Conv2D(32, 3, padding=\"same\", activation=\"relu\"),\n",
    "        layers.Conv2D(64, 3, padding=\"same\", activation=\"relu\")\n",
    "    ]\n",
    "    ''';\n",
    "    \n",
    "    \n",
    "    model = Sequential([\n",
    "        #data_augmentation,\n",
    "        layers.Resizing(112,150),\n",
    "        layers.Rescaling(1./255, input_shape=(112,150,3)),\n",
    "         \n",
    "        layers.Conv2D(16, 5, padding=\"same\", activation=\"relu\"),\n",
    "        layers.MaxPooling2D(),\n",
    "        layers.Dropout(dropout_rate),\n",
    "        \n",
    "        layers.Conv2D(32, 5, padding=\"same\", activation=\"relu\"),\n",
    "        layers.MaxPooling2D(),\n",
    "        layers.Dropout(dropout_rate),\n",
    "        \n",
    "        layers.Conv2D(64, 5, padding=\"same\", activation=\"relu\"),\n",
    "        layers.MaxPooling2D(),\n",
    "        layers.Dropout(dropout_rate),\n",
    "                \n",
    "        layers.Flatten(),\n",
    "        layers.Dense(128, activation=\"relu\"),\n",
    "        layers.Dropout(dropout_rate),\n",
    "        layers.Dense(num_classes)\n",
    "    ])\n",
    "\n",
    "    model.compile(optimizer=\"adam\",\n",
    "                  loss=tf.keras.losses.SparseCategoricalCrossentropy(from_logits=True),\n",
    "                  metrics=[\"accuracy\"]) #, run_eagerly=True)\n",
    "    return model #, convolutions\n",
    "\n",
    "\n",
    "'''\n",
    "# GOOD MODEL ACC>90 VAL_ACC>78 160s/epoch\n",
    "\n",
    "def compile_model(input_shape: tuple, num_classes: int) -> Sequential:\n",
    "    model = Sequential([\n",
    "        #data_augmentation,\n",
    "        layers.Resizing(112,150),\n",
    "        layers.Rescaling(1./255, input_shape=input_shape),\n",
    "        \n",
    "        layers.Conv2D(16, 3, padding=\"same\", activation=\"relu\"),\n",
    "        layers.Conv2D(16, 1, padding='same', activation=\"relu\"),\n",
    "        layers.Conv2D(16, 3, padding=\"same\", activation=\"relu\"),\n",
    "        layers.MaxPooling2D(),\n",
    "        layers.Dropout(0.2),\n",
    "        \n",
    "        layers.Conv2D(32, 3, padding=\"same\", activation=\"relu\"),\n",
    "        layers.Conv2D(32, 1, padding='same', activation=\"relu\"),\n",
    "        layers.Conv2D(32, 3, padding=\"same\", activation=\"relu\"),\n",
    "        layers.MaxPooling2D(),\n",
    "        layers.Dropout(0.2),\n",
    "        \n",
    "        layers.Conv2D(64, 3, padding=\"same\", activation=\"relu\"),\n",
    "        layers.Conv2D(64, 1, padding='same', activation=\"relu\"),\n",
    "        layers.Conv2D(64, 3, padding=\"same\", activation=\"relu\"),\n",
    "        layers.MaxPooling2D(),\n",
    "        layers.Dropout(0.2),\n",
    "        \n",
    "        layers.Conv2D(128, 3, padding=\"same\", activation=\"relu\"),\n",
    "        layers.Conv2D(128, 1, padding='same', activation=\"relu\"),\n",
    "        layers.Conv2D(128, 3, padding=\"same\", activation=\"relu\"),\n",
    "        layers.MaxPooling2D(),\n",
    "        layers.Dropout(0.2),\n",
    "        \n",
    "        layers.Flatten(),\n",
    "        layers.Dense(128, activation=\"relu\"),\n",
    "        layers.Dropout(0.2),\n",
    "        layers.Dense(num_classes)\n",
    "    ])\n",
    "\n",
    "    model.compile(optimizer=\"adam\",\n",
    "                  loss=tf.keras.losses.SparseCategoricalCrossentropy(from_logits=True),\n",
    "                  metrics=[\"accuracy\"])\n",
    "    return model\n",
    "\n",
    "\n",
    "\n",
    "''';\n",
    "\n",
    "'''\n",
    "# ORIGINAL\n",
    "def compile_model(input_shape: tuple, num_classes: int) -> Sequential:\n",
    "    model = Sequential([\n",
    "        #data_augmentation,\n",
    "        layers.Rescaling(1./255, input_shape=input_shape),\n",
    "        layers.Conv2D(16, 3, padding=\"same\", activation=\"relu\"),\n",
    "        layers.MaxPooling2D(),\n",
    "        layers.Dropout(0.2),\n",
    "        layers.Conv2D(32, 3, padding='same', activation=\"relu\"),\n",
    "        layers.MaxPooling2D(),\n",
    "        layers.Dropout(0.2),\n",
    "        layers.Conv2D(64, 3, padding=\"same\", activation=\"relu\"),\n",
    "        layers.MaxPooling2D(),\n",
    "        layers.Dropout(0.2),\n",
    "        layers.Flatten(),\n",
    "        layers.Dense(128, activation=\"relu\"),\n",
    "        layers.Dropout(0.2),\n",
    "        layers.Dense(num_classes)\n",
    "    ])\n",
    "\n",
    "    model.compile(optimizer=\"adam\",\n",
    "                  loss=tf.keras.losses.SparseCategoricalCrossentropy(from_logits=True),\n",
    "                  metrics=[\"accuracy\"])\n",
    "    return model\n",
    "\n",
    "''';"
   ]
  },
  {
   "cell_type": "code",
   "execution_count": 5,
   "id": "e24c60dc",
   "metadata": {},
   "outputs": [],
   "source": [
    "def fit_model(model: Sequential, train_ds: Dataset, test_ds: Dataset, \n",
    "              epochs: int=10, augment: str=\"no_augment\", verbose: bool=True):\n",
    "    global SAVING_ON\n",
    "    \n",
    "    # explanation of Early Stopping is below in next section(s)\n",
    "    trigger = callbacks.EarlyStopping(monitor=\"val_accuracy\", mode=\"max\", min_delta=0.001,\n",
    "                                      patience=15, restore_best_weights=True)\n",
    "\n",
    "    history = model.fit(train_ds, validation_data=test_ds, epochs=epochs, callbacks=[trigger])\n",
    "    epochs = len(history.history['loss'])\n",
    "    print(\"Epoch Length        : {0}\".format(epochs))\n",
    "    \n",
    "    if verbose:\n",
    "        evaluate_model(model, train_ds, test_ds)\n",
    "        print_training_history(history, epochs)\n",
    "    \n",
    "    if SAVING_ON:\n",
    "        model.save(\"output\\keras_models\\skin_classifier_{0}_{1}.keras\".format(epochs, augment))"
   ]
  },
  {
   "cell_type": "code",
   "execution_count": 6,
   "id": "9fd6e66d",
   "metadata": {},
   "outputs": [],
   "source": [
    "def evaluate_model(model: Sequential, train_ds: Dataset, test_ds: Dataset):\n",
    "    acc_value = model.evaluate(train_ds, verbose=0)[1]\n",
    "    val_acc_value = model.evaluate(test_ds, verbose=0)[1]\n",
    "    print(\"Model Accuracy      : {0:.4f}\".format(acc_value))\n",
    "    print(\"Validation Accuracy : {0:.4f}\".format(val_acc_value))"
   ]
  },
  {
   "cell_type": "code",
   "execution_count": 7,
   "id": "5a0a077e",
   "metadata": {},
   "outputs": [],
   "source": [
    "def print_training_history(history: History, epochs: int):\n",
    "    acc = history.history[\"accuracy\"]\n",
    "    val_acc = history.history[\"val_accuracy\"]\n",
    "\n",
    "    loss = history.history[\"loss\"]\n",
    "    val_loss = history.history[\"val_loss\"]\n",
    "\n",
    "    epochs_range = range(epochs)\n",
    "\n",
    "    plt.figure(figsize=(12, 8))\n",
    "    plt.subplot(1, 2, 1)\n",
    "    plt.plot(epochs_range, acc, label=\"Training Accuracy\")\n",
    "    plt.plot(epochs_range, val_acc, label=\"Validation Accuracy\")\n",
    "    plt.legend(loc=\"lower right\")\n",
    "    plt.title(\"Training and Validation Accuracy\")\n",
    "\n",
    "    plt.subplot(1, 2, 2)\n",
    "    plt.plot(epochs_range, loss, label=\"Training Loss\")\n",
    "    plt.plot(epochs_range, val_loss, label=\"Validation Loss\")\n",
    "    plt.legend(loc=\"upper right\")\n",
    "    plt.title(\"Training and Validation Loss\")\n",
    "    plt.show()"
   ]
  },
  {
   "cell_type": "code",
   "execution_count": null,
   "id": "7319ce46",
   "metadata": {},
   "outputs": [],
   "source": []
  },
  {
   "cell_type": "code",
   "execution_count": 8,
   "id": "7bcbe1aa",
   "metadata": {
    "scrolled": false
   },
   "outputs": [
    {
     "name": "stdout",
     "output_type": "stream",
     "text": [
      "Found 9013 files belonging to 7 classes.\n"
     ]
    }
   ],
   "source": [
    "img_size = (450, 600) # keep original size, not 255x255\n",
    "epochs = 5\n",
    "\n",
    "start_time = time.time()\n",
    "\n",
    "image_ds = tf.keras.preprocessing.image_dataset_from_directory(\n",
    "    IMAGES_PATH_SEPARATED,\n",
    "    image_size=img_size,\n",
    "    batch_size=32,\n",
    "    shuffle=True\n",
    ")\n",
    "\n",
    "for images, labels in image_ds:\n",
    "    model_input_shape = images.shape\n",
    "    break\n",
    "    \n",
    "class_names = image_ds.class_names\n",
    "num_classes = len(class_names)\n",
    "\n",
    "statistics_data = [[],[],[],[]]\n",
    "\n",
    "total_folds = 5 # 5\n",
    "total_size = len(image_ds) \n",
    "fold_size = int(total_size / total_folds) \n",
    "\n",
    "if False:\n",
    "    for i in tqdm(range(0, total_folds)): \n",
    "        print(\" --- KFold Iteration {0} --- \".format(i+1))\n",
    "        # split data looks strange but all it does \n",
    "        # it splits and shifts every iteration of the loop\n",
    "        train_d_head = image_ds.take(i*fold_size)  \n",
    "        rest_d = image_ds.skip(i*fold_size)\n",
    "        test_d = rest_d.take(fold_size)\n",
    "        train_d_tail = rest_d.skip(fold_size)\n",
    "        train_d = train_d_head.concatenate(train_d_tail)\n",
    "\n",
    "        test_d = test_d.prefetch(buffer_size=32)\n",
    "        train_d = train_d.prefetch(buffer_size=32)\n",
    "\n",
    "        model = compile_model(model_input_shape[1:], num_classes)  # todo remove input shape\n",
    "        fit_model(model, train_d, test_d, epochs, verbose=True, \n",
    "                  augment=\"kfold_{0}\".format(i+1))\n",
    "\n",
    "        # gather statistics\n",
    "        train_evaluation = model.evaluate(train_d, verbose=0)\n",
    "        validation_evaluation = model.evaluate(test_d, verbose=0)\n",
    "\n",
    "        statistics_data[0].append(train_evaluation[0]) # loss\n",
    "        statistics_data[1].append(train_evaluation[1]) # accuracy\n",
    "        statistics_data[2].append(validation_evaluation[0]) # val_loss\n",
    "        statistics_data[3].append(validation_evaluation[1]) # val_accuracy\n",
    "\n",
    "    print(\" === KFOLD AVERAGE STATISTICS === \")\n",
    "    print(\"loss: {0} - accuracy: {1} - val_loss: {2} - val_accuracy: {3}\".format(\n",
    "        np.average(statistics_data[0]), np.average(statistics_data[1]),\n",
    "        np.average(statistics_data[2]), np.average(statistics_data[3])\n",
    "    ))\n",
    "    print(\"Time Elapsed : \", timedelta(seconds=(time.time() - start_time)))\n",
    "\n"
   ]
  },
  {
   "cell_type": "code",
   "execution_count": 9,
   "id": "9a3deb19",
   "metadata": {},
   "outputs": [],
   "source": [
    "'''\n",
    "ValueError: Unexpected result of `train_function` (Empty logs). \n",
    "Please use `Model.compile(..., run_eagerly=True)`, or `tf.config.run_functions_eagerly(True)` \n",
    "for more information of where went wrong, or file a issue/bug to `tf.keras`.\n",
    "''';"
   ]
  },
  {
   "cell_type": "markdown",
   "id": "e0e6ed0f",
   "metadata": {},
   "source": [
    "## Next KFold iterations might take longer (epoch time)\n",
    "## add axis titles"
   ]
  },
  {
   "cell_type": "code",
   "execution_count": null,
   "id": "e4c79628",
   "metadata": {},
   "outputs": [],
   "source": []
  },
  {
   "cell_type": "code",
   "execution_count": null,
   "id": "864a32c0",
   "metadata": {},
   "outputs": [],
   "source": []
  },
  {
   "cell_type": "code",
   "execution_count": 53,
   "id": "d0d69725",
   "metadata": {},
   "outputs": [
    {
     "name": "stdout",
     "output_type": "stream",
     "text": [
      "Found 9013 files belonging to 7 classes.\n",
      "Epoch 1/5\n",
      "225/225 [==============================] - 100s 441ms/step - loss: 1.1243 - accuracy: 0.6661 - val_loss: 1.0320 - val_accuracy: 0.6586\n",
      "Epoch 2/5\n",
      "225/225 [==============================] - 97s 428ms/step - loss: 0.9707 - accuracy: 0.6742 - val_loss: 0.9838 - val_accuracy: 0.6553\n",
      "Epoch 3/5\n",
      "225/225 [==============================] - 99s 439ms/step - loss: 0.9294 - accuracy: 0.6757 - val_loss: 0.9059 - val_accuracy: 0.6669\n",
      "Epoch 4/5\n",
      "225/225 [==============================] - 100s 443ms/step - loss: 0.9023 - accuracy: 0.6785 - val_loss: 0.9034 - val_accuracy: 0.6597\n",
      "Epoch 5/5\n",
      "225/225 [==============================] - 107s 475ms/step - loss: 0.8626 - accuracy: 0.6815 - val_loss: 0.8817 - val_accuracy: 0.6762\n",
      "Epoch Length        : 5\n",
      "Model Accuracy      : 0.7072\n",
      "Validation Accuracy : 0.6801\n"
     ]
    },
    {
     "data": {
      "image/png": "[encoded data removed]",
      "text/plain": [
       "<Figure size 864x576 with 2 Axes>"
      ]
     },
     "metadata": {
      "needs_background": "light"
     },
     "output_type": "display_data"
    }
   ],
   "source": [
    "image_ds = tf.keras.preprocessing.image_dataset_from_directory(\n",
    "    IMAGES_PATH_SEPARATED,\n",
    "    image_size=img_size,\n",
    "    batch_size=32,\n",
    "    shuffle=True\n",
    ")\n",
    "\n",
    "epochs = 5\n",
    "split = int(len(image_ds)*0.8)\n",
    "train_d = image_ds.take(split)  \n",
    "test_d = image_ds.skip(split)\n",
    "\n",
    "model = compile_model(model_input_shape[1:], num_classes)  # todo remove input shape\n",
    "fit_model(model, train_d, test_d, epochs, verbose=True, \n",
    "          augment=\"testing_{0}\".format(epoches))"
   ]
  },
  {
   "cell_type": "code",
   "execution_count": null,
   "id": "52da04aa",
   "metadata": {},
   "outputs": [],
   "source": []
  },
  {
   "cell_type": "code",
   "execution_count": null,
   "id": "b8ba5d54",
   "metadata": {},
   "outputs": [],
   "source": []
  },
  {
   "cell_type": "code",
   "execution_count": 49,
   "id": "6436f57c",
   "metadata": {
    "scrolled": true
   },
   "outputs": [
    {
     "data": {
      "text/plain": [
       "[<keras.layers.preprocessing.image_preprocessing.Resizing at 0x17781bd6ac0>,\n",
       " <keras.layers.preprocessing.image_preprocessing.Rescaling at 0x17781d8e220>,\n",
       " <keras.layers.convolutional.Conv2D at 0x17781d8e640>,\n",
       " <keras.layers.pooling.MaxPooling2D at 0x17781d8e040>,\n",
       " <keras.layers.core.dropout.Dropout at 0x17780bffe20>,\n",
       " <keras.layers.convolutional.Conv2D at 0x17780bffb50>,\n",
       " <keras.layers.pooling.MaxPooling2D at 0x17780bff5b0>,\n",
       " <keras.layers.core.dropout.Dropout at 0x17783fbfc40>,\n",
       " <keras.layers.convolutional.Conv2D at 0x1778337f220>,\n",
       " <keras.layers.pooling.MaxPooling2D at 0x1778337f070>,\n",
       " <keras.layers.core.dropout.Dropout at 0x177831b5850>,\n",
       " <keras.layers.core.flatten.Flatten at 0x17783604310>,\n",
       " <keras.layers.core.dense.Dense at 0x177835e1310>,\n",
       " <keras.layers.core.dense.Dense at 0x177835e15e0>,\n",
       " <keras.layers.core.dropout.Dropout at 0x177835e18e0>,\n",
       " <keras.layers.core.dense.Dense at 0x177835e1a90>]"
      ]
     },
     "execution_count": 49,
     "metadata": {},
     "output_type": "execute_result"
    }
   ],
   "source": [
    "# 2, 5, 8\n",
    "model.layers"
   ]
  },
  {
   "cell_type": "code",
   "execution_count": 50,
   "id": "c880f986",
   "metadata": {},
   "outputs": [
    {
     "name": "stdout",
     "output_type": "stream",
     "text": [
      "Model: \"sequential_8\"\n",
      "_________________________________________________________________\n",
      " Layer (type)                Output Shape              Param #   \n",
      "=================================================================\n",
      " resizing_8 (Resizing)       (None, 112, 150, 3)       0         \n",
      "                                                                 \n",
      " rescaling_8 (Rescaling)     (None, 112, 150, 3)       0         \n",
      "                                                                 \n",
      " conv2d_27 (Conv2D)          (None, 112, 150, 32)      896       \n",
      "                                                                 \n",
      " max_pooling2d_21 (MaxPoolin  (None, 56, 75, 32)       0         \n",
      " g2D)                                                            \n",
      "                                                                 \n",
      " dropout_29 (Dropout)        (None, 56, 75, 32)        0         \n",
      "                                                                 \n",
      " conv2d_28 (Conv2D)          (None, 56, 75, 64)        18496     \n",
      "                                                                 \n",
      " max_pooling2d_22 (MaxPoolin  (None, 28, 37, 64)       0         \n",
      " g2D)                                                            \n",
      "                                                                 \n",
      " dropout_30 (Dropout)        (None, 28, 37, 64)        0         \n",
      "                                                                 \n",
      " conv2d_29 (Conv2D)          (None, 28, 37, 128)       73856     \n",
      "                                                                 \n",
      " max_pooling2d_23 (MaxPoolin  (None, 14, 18, 128)      0         \n",
      " g2D)                                                            \n",
      "                                                                 \n",
      " dropout_31 (Dropout)        (None, 14, 18, 128)       0         \n",
      "                                                                 \n",
      " flatten_8 (Flatten)         (None, 32256)             0         \n",
      "                                                                 \n",
      " dense_19 (Dense)            (None, 64)                2064448   \n",
      "                                                                 \n",
      " dense_20 (Dense)            (None, 64)                4160      \n",
      "                                                                 \n",
      " dropout_32 (Dropout)        (None, 64)                0         \n",
      "                                                                 \n",
      " dense_21 (Dense)            (None, 7)                 455       \n",
      "                                                                 \n",
      "=================================================================\n",
      "Total params: 2,162,311\n",
      "Trainable params: 2,162,311\n",
      "Non-trainable params: 0\n",
      "_________________________________________________________________\n"
     ]
    }
   ],
   "source": [
    "model.summary()"
   ]
  },
  {
   "cell_type": "code",
   "execution_count": null,
   "id": "7670809d",
   "metadata": {},
   "outputs": [],
   "source": [
    "x1w = model.layers[8].get_weights()[0][:,:,0,:]\n",
    "for i in range(1,64):\n",
    "    plt.subplot(5,5,i)\n",
    "    plt.imshow(x1w[:,:,i],interpolation=\"nearest\",cmap=\"gray\")\n",
    "plt.show()"
   ]
  },
  {
   "cell_type": "code",
   "execution_count": 51,
   "id": "219858cb",
   "metadata": {},
   "outputs": [
    {
     "data": {
      "image/png": "[encoded data removed]",
      "text/plain": [
       "<Figure size 432x288 with 64 Axes>"
      ]
     },
     "metadata": {},
     "output_type": "display_data"
    }
   ],
   "source": [
    "from keras.preprocessing.image import load_img\n",
    "from keras.preprocessing.image import img_to_array\n",
    "from numpy import expand_dims\n",
    "from matplotlib import pyplot\n",
    "\n",
    "# redefine model to output right after the first hidden layer\n",
    "model_t = keras.Model(inputs=model.inputs, outputs=model.layers[8].output)\n",
    "img = load_img('input/ISIC_0024891.jpg', target_size=(450, 600))\n",
    "\n",
    "# convert the image to an array\n",
    "img = img_to_array(img)\n",
    "# expand dimensions so that it represents a single 'sample'\n",
    "img = expand_dims(img, axis=0)\n",
    "# prepare the image (e.g. scale pixel values for the vgg)\n",
    "#img = preprocess_input(img)\n",
    "\n",
    "feature_maps = model_t.predict(img)\n",
    "# plot all 64 maps in an 8x8 squares\n",
    "square = 8\n",
    "ix = 1\n",
    "for _ in range(square):\n",
    "    for _ in range(square):\n",
    "        # specify subplot and turn of axis\n",
    "        ax = pyplot.subplot(square, square, ix)\n",
    "        ax.set_xticks([])\n",
    "        ax.set_yticks([])\n",
    "        # plot filter channel in grayscale\n",
    "        pyplot.imshow(feature_maps[0, :, :, ix-1], cmap='gray')\n",
    "        ix += 1\n",
    "# show the figure\n",
    "pyplot.show()"
   ]
  },
  {
   "cell_type": "code",
   "execution_count": null,
   "id": "7e528353",
   "metadata": {},
   "outputs": [],
   "source": [
    "# NOT NEEDED\n",
    "\n",
    "# retrieve weights from the second hidden layer\n",
    "filters, biases = model.layers[1].get_weights()\n",
    "\n",
    "\n",
    "# normalize filter values to 0-1 so we can visualize them\n",
    "f_min, f_max = filters.min(), filters.max()\n",
    "filters = (filters - f_min) / (f_max - f_min)\n",
    "\n",
    "\n"
   ]
  },
  {
   "cell_type": "code",
   "execution_count": null,
   "id": "1927024c",
   "metadata": {},
   "outputs": [],
   "source": [
    "if not;\n",
    "\n",
    "ann = Sequential()\n",
    "x = layers.Conv2D(filters=64,kernel_size=(5,5),input_shape=(32,32,3))\n",
    "ann.add(x)\n",
    "ann.add(layers.Activation(\"relu\"))\n",
    "\n",
    "x1w = x.get_weights()[0][:,:,0,:]\n",
    "for i in range(1,26):\n",
    "    plt.subplot(5,5,i)\n",
    "    plt.imshow(x1w[:,:,i],interpolation=\"nearest\",cmap=\"gray\")\n",
    "plt.show()\n",
    "\n",
    "ann.fit(Xtrain, ytrain_indicator, epochs=5, batch_size=32)\n",
    "\n",
    "x1w = x.get_weights()[0][:,:,0,:]\n",
    "for i in range(1,26):\n",
    "    plt.subplot(5,5,i)\n",
    "    plt.imshow(x1w[:,:,i],interpolation=\"nearest\",cmap=\"gray\")\n",
    "plt.show()"
   ]
  },
  {
   "cell_type": "code",
   "execution_count": null,
   "id": "4aca5983",
   "metadata": {},
   "outputs": [],
   "source": []
  },
  {
   "cell_type": "code",
   "execution_count": null,
   "id": "e537d4f3",
   "metadata": {},
   "outputs": [],
   "source": [
    "'''\n",
    "Time it initially took to train a network was 462s per epoch\n",
    "with reduction of image size and changing layers slightly it was down to 60s\n",
    "462s -> 458s\n",
    "217s -> 219s    Images halfed\n",
    "184s -> 186s  \n",
    "125s -> 123s    Images quortered\n",
    "166s -> 157s \n",
    "77s  -> 60s     Network simplified, 5 KFolds instead of 10 KFolds\n",
    "44s  -> 40s     Added first layer\n",
    "\n",
    "Here beta 1 with overfitting example graph\n",
    "Reducing number of learning parameters, Dropout used\n",
    "TODO Look at loss and cost function\n",
    "\n",
    "smaller data 1.43GB\n",
    "35s -> 33s  ACC 53 VAL 53\n",
    "''';"
   ]
  }
 ],
 "metadata": {
  "kernelspec": {
   "display_name": "Python 3",
   "language": "python",
   "name": "python3"
  },
  "language_info": {
   "codemirror_mode": {
    "name": "ipython",
    "version": 3
   },
   "file_extension": ".py",
   "mimetype": "text/x-python",
   "name": "python",
   "nbconvert_exporter": "python",
   "pygments_lexer": "ipython3",
   "version": "3.8.8"
  }
 },
 "nbformat": 4,
 "nbformat_minor": 5
}
