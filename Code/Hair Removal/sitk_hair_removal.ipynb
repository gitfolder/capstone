{
 "cells": [
  {
   "cell_type": "code",
   "execution_count": 121,
   "id": "5a3ad549",
   "metadata": {},
   "outputs": [],
   "source": [
    "# ORIGINAL\n",
    "# https://simpleitk.readthedocs.io/en/release/link_FastMarchingSegmentation_docs.html\n",
    "\n",
    "# ADDITIONAL\n",
    "# https://github.com/hinerm/ITK/blob/master/Wrapping/Generators/Python/Tests/FastMarchingImageFilter.py\n",
    "\n",
    "# I DON'T UNDERSTAND THIS\n",
    "# http://insightsoftwareconsortium.github.io/SimpleITK-Notebooks/Python_html/05_Results_Visualization.html\n",
    "\n",
    "# MAYBE HELPFUL\n",
    "# https://pyscience.wordpress.com/2014/10/19/image-segmentation-with-python-and-simpleitk/\n",
    "from __future__ import print_function\n",
    "\n",
    "import SimpleITK as sitk\n",
    "import sys\n",
    "\n",
    "import numpy as np"
   ]
  },
  {
   "cell_type": "code",
   "execution_count": 2,
   "id": "8a5fd977",
   "metadata": {},
   "outputs": [
    {
     "name": "stdout",
     "output_type": "stream",
     "text": [
      "Collecting SimpleITK\n",
      "  Downloading SimpleITK-2.1.1.2-cp38-cp38-win_amd64.whl (26.2 MB)\n",
      "Installing collected packages: SimpleITK\n",
      "Successfully installed SimpleITK-2.1.1.2\n"
     ]
    }
   ],
   "source": [
    "#!pip install SimpleITK"
   ]
  },
  {
   "cell_type": "code",
   "execution_count": 83,
   "id": "92dd79f7",
   "metadata": {},
   "outputs": [],
   "source": [
    "inputFilename = \"ISIC_0024312.jpg\"\n",
    "outputFilename = \"output.jpg\"\n",
    "\n",
    "seedPosition = (300, 225) # starting point\n",
    "\n",
    "sigma = 0.5\n",
    "alpha = -0.9\n",
    "beta = 4.0\n",
    "timeThreshold = 500\n",
    "stoppingTime = 1000"
   ]
  },
  {
   "cell_type": "code",
   "execution_count": 132,
   "id": "4afbb9ee",
   "metadata": {},
   "outputs": [],
   "source": [
    "inputImage = sitk.ReadImage(inputFilename, sitk.sitkFloat32)\n",
    "\n",
    "#print(inputImage)\n",
    "\n",
    "smoothing = sitk.CurvatureAnisotropicDiffusionImageFilter()\n",
    "smoothing.SetTimeStep(0.125)\n",
    "smoothing.SetNumberOfIterations(5)\n",
    "smoothing.SetConductanceParameter(9.0)\n",
    "smoothingOutput = smoothing.Execute(inputImage)\n",
    "\n",
    "gradientMagnitude = sitk.GradientMagnitudeRecursiveGaussianImageFilter()\n",
    "gradientMagnitude.SetSigma(sigma)\n",
    "gradientMagnitudeOutput = gradientMagnitude.Execute(smoothingOutput)\n",
    "\n",
    "sigmoid = sitk.SigmoidImageFilter()\n",
    "sigmoid.SetOutputMinimum(0.0)\n",
    "sigmoid.SetOutputMaximum(1.0)\n",
    "sigmoid.SetAlpha(alpha)\n",
    "sigmoid.SetBeta(beta)\n",
    "sigmoid.DebugOn()\n",
    "sigmoidOutput = sigmoid.Execute(gradientMagnitudeOutput)\n",
    "\n",
    "fastMarching = sitk.FastMarchingImageFilter()\n",
    "\n",
    "seedValue = 0\n",
    "trialPoint = (seedPosition[0], seedPosition[1], seedValue)\n",
    "\n",
    "fastMarching.AddTrialPoint(trialPoint)\n",
    "\n",
    "#fastMarching.SetStoppingValue(stoppingTime)\n",
    "\n",
    "fastMarchingOutput = fastMarching.Execute(sigmoidOutput)\n",
    "\n",
    "thresholder = sitk.BinaryThresholdImageFilter()\n",
    "thresholder.SetLowerThreshold(0.0)\n",
    "thresholder.SetUpperThreshold(timeThreshold)\n",
    "thresholder.SetOutsideValue(0)\n",
    "thresholder.SetInsideValue(255)\n",
    "\n",
    "result = thresholder.Execute(fastMarchingOutput)\n",
    "\n",
    "sitk.WriteImage(result, outputFilename);"
   ]
  },
  {
   "cell_type": "code",
   "execution_count": 93,
   "id": "b6840e81",
   "metadata": {},
   "outputs": [
    {
     "data": {
      "text/plain": [
       "SimpleITK.SimpleITK.Image"
      ]
     },
     "execution_count": 93,
     "metadata": {},
     "output_type": "execute_result"
    }
   ],
   "source": [
    "# NOT WORKING\n",
    "resample = sitk.ResampleImageFilter()\n",
    "resample.SetReferenceImage(result)\n",
    "resample.SetInterpolator(sitk.sitkNearestNeighbor)\n",
    "\n",
    "image_changed = resample.Execute(inputImage)\n",
    "type(image_changed)\n",
    "#sitk.WriteImage(image_changed, \"changed.jpg\")"
   ]
  },
  {
   "cell_type": "code",
   "execution_count": 139,
   "id": "62cc561a",
   "metadata": {},
   "outputs": [
    {
     "data": {
      "text/plain": [
       "SimpleITK.SimpleITK.Image"
      ]
     },
     "execution_count": 139,
     "metadata": {},
     "output_type": "execute_result"
    }
   ],
   "source": [
    "# NOT WORKING\n",
    "resample = sitk.ResampleImageFilter()\n",
    "resample.SetReferenceImage(inputImage)\n",
    "resample.SetInterpolator(sitk.sitkNearestNeighbor)\n",
    "\n",
    "image_changed = resample.Execute(result)\n",
    "type(image_changed)\n",
    "#sitk.WriteImage(image_changed, \"changed.jpg\")"
   ]
  },
  {
   "cell_type": "code",
   "execution_count": 96,
   "id": "f61e16d1",
   "metadata": {},
   "outputs": [],
   "source": [
    "resample = sitk.Resample(inputImage, result)\n",
    "#sitk.WriteImage(image_changed, \"changed.jpg\")\n",
    "#msk1 = sitk.OtsuThreshold(inputImage,0,1)"
   ]
  },
  {
   "cell_type": "code",
   "execution_count": 136,
   "id": "20c916a1",
   "metadata": {},
   "outputs": [],
   "source": [
    "# NOT WORKING, Cannot even write image I read from folder...\n",
    "result = sitk.ReadImage(outputFilename, sitk.sitkFloat32)\n",
    "resample = inputImage - result\n",
    "#type(resample)\n",
    "\n",
    "\n",
    "array = sitk.GetArrayViewFromImage(resample).astype(int)\n",
    "array = np.abs(array)\n",
    "array[1]\n",
    "\n",
    "resample = sitk.GetImageFromArray(array)\n",
    "#sitk.WriteImage(resample, \"changed.jpg\")"
   ]
  },
  {
   "cell_type": "code",
   "execution_count": 133,
   "id": "fa056c35",
   "metadata": {},
   "outputs": [],
   "source": [
    "import matplotlib.pyplot as plt\n",
    "\n",
    "def sitk_show(img, title=None, margin=0.05, dpi=40 ):\n",
    "    nda = sitk.GetArrayFromImage(img)\n",
    "    spacing = img.GetSpacing()\n",
    "    figsize = (1 + margin) * nda.shape[0] / dpi, (1 + margin) * nda.shape[1] / dpi\n",
    "    extent = (0, nda.shape[1]*spacing[1], nda.shape[0]*spacing[0], 0)\n",
    "    fig = plt.figure(figsize=figsize, dpi=dpi)\n",
    "    ax = fig.add_axes([margin, margin, 1 - 2*margin, 1 - 2*margin])\n",
    "\n",
    "    plt.set_cmap(\"gray\")\n",
    "    ax.imshow(nda,extent=extent,interpolation=None)\n",
    "    \n",
    "    if title:\n",
    "        plt.title(title)\n",
    "    \n",
    "    plt.show()"
   ]
  },
  {
   "cell_type": "code",
   "execution_count": 140,
   "id": "bf2c5af2",
   "metadata": {},
   "outputs": [
    {
     "data": {
      "image/png": "[encoded data removed]",
      "text/plain": [
       "<Figure size 472.5x630 with 1 Axes>"
      ]
     },
     "metadata": {
      "needs_background": "light"
     },
     "output_type": "display_data"
    }
   ],
   "source": [
    "sitk_show(image_changed)"
   ]
  },
  {
   "cell_type": "code",
   "execution_count": null,
   "id": "48a2133f",
   "metadata": {},
   "outputs": [],
   "source": []
  }
 ],
 "metadata": {
  "kernelspec": {
   "display_name": "Python 3",
   "language": "python",
   "name": "python3"
  },
  "language_info": {
   "codemirror_mode": {
    "name": "ipython",
    "version": 3
   },
   "file_extension": ".py",
   "mimetype": "text/x-python",
   "name": "python",
   "nbconvert_exporter": "python",
   "pygments_lexer": "ipython3",
   "version": "3.8.8"
  }
 },
 "nbformat": 4,
 "nbformat_minor": 5
}
